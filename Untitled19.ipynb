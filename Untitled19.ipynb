{
 "cells": [
  {
   "cell_type": "code",
   "execution_count": 9,
   "id": "1a47961f-51cf-4fe4-a50f-221f49009fa2",
   "metadata": {},
   "outputs": [
    {
     "name": "stdin",
     "output_type": "stream",
     "text": [
      "Masukanangka: 7\n"
     ]
    },
    {
     "name": "stdout",
     "output_type": "stream",
     "text": [
      "7777777\n",
      "666666\n",
      "55555\n",
      "4444\n",
      "333\n",
      "22\n",
      "1\n"
     ]
    }
   ],
   "source": [
    "n=int(input(\"Masukanangka:\"))\n",
    "for i in range(n, 0, -1):\n",
    "    for b in range(i):\n",
    "        print(i, end= \"\")\n",
    "    print()"
   ]
  },
  {
   "cell_type": "code",
   "execution_count": 40,
   "id": "52f46992-caf4-4dfc-9589-4df32da6bc5a",
   "metadata": {},
   "outputs": [
    {
     "name": "stdout",
     "output_type": "stream",
     "text": [
      "Masukkan angka di luar bulan (1-12) untuk berhenti\n"
     ]
    },
    {
     "name": "stdin",
     "output_type": "stream",
     "text": [
      "Bulan (1-12) :  1\n"
     ]
    },
    {
     "name": "stdout",
     "output_type": "stream",
     "text": [
      "Ada 31 hari\n"
     ]
    },
    {
     "name": "stdin",
     "output_type": "stream",
     "text": [
      "Bulan (1-12) :  9\n"
     ]
    },
    {
     "name": "stdout",
     "output_type": "stream",
     "text": [
      "Ada 30 hari\n"
     ]
    },
    {
     "name": "stdin",
     "output_type": "stream",
     "text": [
      "Bulan (1-12) :  2\n",
      "Masukkan tahun:  2023\n"
     ]
    },
    {
     "name": "stdout",
     "output_type": "stream",
     "text": [
      "Ada 28 hari\n"
     ]
    },
    {
     "name": "stdin",
     "output_type": "stream",
     "text": [
      "Bulan (1-12) :  -2\n"
     ]
    },
    {
     "name": "stdout",
     "output_type": "stream",
     "text": [
      "Data invalid, program dihentikan.\n"
     ]
    }
   ],
   "source": [
    "print(\"Masukkan angka di luar bulan (1-12) untuk berhenti\")\n",
    "while True: \n",
    "    bulan = input(\"Bulan (1-12) : \")\n",
    "    try:\n",
    "        bulan = int(bulan)\n",
    "    except ValueError:\n",
    "        print(\"Input tidak valid, silakan masukkan angka.\")\n",
    "        continue\n",
    "    if bulan < 1 or bulan > 12:\n",
    "        print(\"Data invalid, program dihentikan.\")\n",
    "        break\n",
    "    if bulan == 2:\n",
    "        tahun = input(\"Masukkan tahun: \")\n",
    "        try:\n",
    "            tahun = int(tahun)\n",
    "            if (tahun % 4 == 0 and tahun % 100 != 0) or (tahun % 400 == 0):\n",
    "                print(\"Ada 29 hari (tahun kabisat)\")\n",
    "            else:\n",
    "                print(\"Ada 28 hari\")\n",
    "        except ValueError:\n",
    "            print(\"Input tahun tidak valid.\")\n",
    "            continue\n",
    "    elif bulan == 1 or bulan == 3 or bulan == 5 or bulan == 7 or bulan == 8 or bulan == 10 or bulan == 12:\n",
    "         print(\"Ada 31 hari\")\n",
    "    elif bulan == 4 or bulan == 6 or bulan == 9 or bulan == 11:\n",
    "         print(\"Ada 30 hari\")"
   ]
  },
  {
   "cell_type": "code",
   "execution_count": null,
   "id": "3a653c64-9b71-493e-bfd3-ca923bab3e2c",
   "metadata": {},
   "outputs": [],
   "source": []
  },
  {
   "cell_type": "code",
   "execution_count": null,
   "id": "f97e52ef-145c-4998-9314-5ddf5eb17bbb",
   "metadata": {},
   "outputs": [],
   "source": []
  }
 ],
 "metadata": {
  "kernelspec": {
   "display_name": "Python 3 (ipykernel)",
   "language": "python",
   "name": "python3"
  },
  "language_info": {
   "codemirror_mode": {
    "name": "ipython",
    "version": 3
   },
   "file_extension": ".py",
   "mimetype": "text/x-python",
   "name": "python",
   "nbconvert_exporter": "python",
   "pygments_lexer": "ipython3",
   "version": "3.12.4"
  }
 },
 "nbformat": 4,
 "nbformat_minor": 5
}
